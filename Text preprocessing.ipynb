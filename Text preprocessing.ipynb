{
 "cells": [
  {
   "cell_type": "code",
   "execution_count": 20,
   "metadata": {},
   "outputs": [
    {
     "name": "stdout",
     "output_type": "stream",
     "text": [
      "['-- John Madden' \"I don't know man, Raw Data is sick :)\"\n",
      " \"Don't freak out; your post has **not** been removed. We just wanted to remind you of a few important rules:\\n\\n* You must state where and from whom you obtained your Pokémon, to the best of your knowledge, as well as any other important information regarding their origin or trade history.\\n* The OT and ID No. must be listed for any events or shinies without a set OT/ID No. For more details, please refer to [Rule 4](/r/pokemontrades/wiki/rules).\\n* Valuable Pokémon obtained from the GTS, Wonder Trade, or Passerby trades are not allowed to be traded.\\n* Events transferred from previous generations can only be traded in Event3-5 tagged posts with full details listed. Please read [Rule 9](/r/pokemontrades/wiki/rules) for more information.\\n\\n*I am a bot, and this action was performed automatically. Please [contact the moderators of this subreddit](/message/compose/?to=/r/pokemontrades) if you have any questions or concerns.*\"]\n"
     ]
    }
   ],
   "source": [
    "import bz2\n",
    "import codecs\n",
    "import itertools\n",
    "import json\n",
    "import pandas as pd\n",
    "import pickle\n",
    "\n",
    "with open('2016-500k.pickle', 'rb') as f:\n",
    "    subset = pickle.load(f)\n",
    "comments = subset['body'].values\n",
    "print(comments[-3:])"
   ]
  },
  {
   "cell_type": "code",
   "execution_count": 32,
   "metadata": {},
   "outputs": [
    {
     "data": {
      "text/plain": [
       "[' John Madden',\n",
       " 'I dont know man Raw Data is sick ',\n",
       " 'Dont freak out your post has not been removed We just wanted to remind you of a few important rules   You must state where and from whom you obtained your Pokémon to the best of your knowledge as well as any other important information regarding their origin or trade history  The OT and ID No must be listed for any events or shinies without a set OTID No For more details please refer to Rule 4rpokemontradeswikirules  Valuable Pokémon obtained from the GTS Wonder Trade or Passerby trades are not allowed to be traded  Events transferred from previous generations can only be traded in Event35 tagged posts with full details listed Please read Rule 9rpokemontradeswikirules for more information  I am a bot and this action was performed automatically Please contact the moderators of this subredditmessagecomposetorpokemontrades if you have any questions or concerns']"
      ]
     },
     "execution_count": 32,
     "metadata": {},
     "output_type": "execute_result"
    }
   ],
   "source": [
    "comments_clean = [s.translate(str.maketrans('', '', string.punctuation)).replace('\\n', ' ') for s in comments ]\n",
    "comments_clean[-3:]"
   ]
  },
  {
   "cell_type": "code",
   "execution_count": 36,
   "metadata": {},
   "outputs": [
    {
     "name": "stdout",
     "output_type": "stream",
     "text": [
      "counting words...\n"
     ]
    }
   ],
   "source": [
    "# Simple stop words\n",
    "stop_words = [\"a\", \"able\", \"about\", \"above\", \"according\", \"accordingly\", \"across\", \"actually\", \"after\", \"afterwards\", \"again\", \"against\", \"all\", \"allow\", \"allows\", \"almost\", \"alone\", \"along\", \"already\", \"also\", \"although\", \"always\", \"am\", \"among\", \"amongst\", \"an\", \"and\", \"another\", \"any\", \"anybody\", \"anyhow\", \"anyone\", \"anything\", \"anyway\", \"anyways\", \"anywhere\", \"apart\", \"appear\", \"appreciate\", \"appropriate\", \"are\", \"around\", \"as\", \"aside\", \"ask\", \"asking\", \"associated\", \"at\", \"available\", \"away\", \"awfully\", \"b\", \"be\", \"became\", \"because\", \"become\", \"becomes\", \"becoming\", \"been\", \"before\", \"beforehand\", \"behind\", \"being\", \"believe\", \"below\", \"beside\", \"besides\", \"best\", \"better\", \"between\", \"beyond\", \"both\", \"brief\", \"but\", \"by\", \"c\", \"came\", \"can\", \"cannot\", \"cant\", \"cause\", \"causes\", \"certain\", \"certainly\", \"changes\", \"clearly\", \"co\", \"com\", \"come\", \"comes\", \"concerning\", \"consequently\", \"consider\", \"considering\", \"contain\", \"containing\", \"contains\", \"corresponding\", \"could\", \"course\", \"currently\", \"d\", \"definitely\", \"described\", \"despite\", \"did\", \"different\", \"do\", \"does\", \"doing\", \"done\", \"down\", \"downwards\", \"during\", \"e\", \"each\", \"edu\", \"eg\", \"eight\", \"either\", \"else\", \"elsewhere\", \"enough\", \"entirely\", \"especially\", \"et\", \"etc\", \"even\", \"ever\", \"every\", \"everybody\", \"everyone\", \"everything\", \"everywhere\", \"ex\", \"exactly\", \"example\", \"except\", \"f\", \"far\", \"few\", \"fifth\", \"first\", \"five\", \"followed\", \"following\", \"follows\", \"for\", \"former\", \"formerly\", \"forth\", \"four\", \"from\", \"further\", \"furthermore\", \"g\", \"get\", \"gets\", \"getting\", \"given\", \"gives\", \"go\", \"goes\", \"going\", \"gone\", \"got\", \"gotten\", \"greetings\", \"h\", \"had\", \"happens\", \"hardly\", \"has\", \"have\", \"having\", \"he\", \"hello\", \"help\", \"hence\", \"her\", \"here\", \"hereafter\", \"hereby\", \"herein\", \"hereupon\", \"hers\", \"herself\", \"hi\", \"him\", \"himself\", \"his\", \"hither\", \"hopefully\", \"how\", \"howbeit\", \"however\", \"i\", \"ie\", \"if\", \"ignored\", \"immediate\", \"in\", \"inasmuch\", \"inc\", \"indeed\", \"indicate\", \"indicated\", \"indicates\", \"inner\", \"insofar\", \"instead\", \"into\", \"inward\", \"is\", \"it\", \"its\", \"itself\", \"j\", \"just\", \"k\", \"keep\", \"keeps\", \"kept\", \"know\", \"knows\", \"known\", \"l\", \"last\", \"lately\", \"later\", \"latter\", \"latterly\", \"least\", \"less\", \"lest\", \"let\", \"like\", \"liked\", \"likely\", \"little\", \"look\", \"looking\", \"looks\", \"ltd\", \"m\", \"mainly\", \"many\", \"may\", \"maybe\", \"me\", \"mean\", \"meanwhile\", \"merely\", \"might\", \"more\", \"moreover\", \"most\", \"mostly\", \"much\", \"must\", \"my\", \"myself\", \"n\", \"name\", \"namely\", \"nd\", \"near\", \"nearly\", \"necessary\", \"need\", \"needs\", \"neither\", \"never\", \"nevertheless\", \"new\", \"next\", \"nine\", \"no\", \"nobody\", \"non\", \"none\", \"noone\", \"nor\", \"normally\", \"not\", \"nothing\", \"novel\", \"now\", \"nowhere\", \"o\", \"obviously\", \"of\", \"off\", \"often\", \"oh\", \"ok\", \"okay\", \"old\", \"on\", \"once\", \"one\", \"ones\", \"only\", \"onto\", \"or\", \"other\", \"others\", \"otherwise\", \"ought\", \"our\", \"ours\", \"ourselves\", \"out\", \"outside\", \"over\", \"overall\", \"own\", \"p\", \"particular\", \"particularly\", \"per\", \"perhaps\", \"placed\", \"please\", \"plus\", \"possible\", \"presumably\", \"probably\", \"provides\", \"q\", \"que\", \"quite\", \"qv\", \"r\", \"rather\", \"rd\", \"re\", \"really\", \"reasonably\", \"regarding\", \"regardless\", \"regards\", \"relatively\", \"respectively\", \"right\", \"s\", \"said\", \"same\", \"saw\", \"say\", \"saying\", \"says\", \"second\", \"secondly\", \"see\", \"seeing\", \"seem\", \"seemed\", \"seeming\", \"seems\", \"seen\", \"self\", \"selves\", \"sensible\", \"sent\", \"serious\", \"seriously\", \"seven\", \"several\", \"shall\", \"she\", \"should\", \"since\", \"six\", \"so\", \"some\", \"somebody\", \"somehow\", \"someone\", \"something\", \"sometime\", \"sometimes\", \"somewhat\", \"somewhere\", \"soon\", \"sorry\", \"specified\", \"specify\", \"specifying\", \"still\", \"sub\", \"such\", \"sup\", \"sure\", \"t\", \"take\", \"taken\", \"tell\", \"tends\", \"th\", \"than\", \"thank\", \"thanks\", \"thanx\", \"that\", \"thats\", \"the\", \"their\", \"theirs\", \"them\", \"themselves\", \"then\", \"thence\", \"there\", \"thereafter\", \"thereby\", \"therefore\", \"therein\", \"theres\", \"thereupon\", \"these\", \"they\", \"think\", \"third\", \"this\", \"thorough\", \"thoroughly\", \"those\", \"though\", \"three\", \"through\", \"throughout\", \"thru\", \"thus\", \"to\", \"together\", \"too\", \"took\", \"toward\", \"towards\", \"tried\", \"tries\", \"truly\", \"try\", \"trying\", \"twice\", \"two\", \"u\", \"un\", \"under\", \"unfortunately\", \"unless\", \"unlikely\", \"until\", \"unto\", \"up\", \"upon\", \"us\", \"use\", \"used\", \"useful\", \"uses\", \"using\", \"usually\", \"uucp\", \"v\", \"value\", \"various\", \"very\", \"via\", \"viz\", \"vs\", \"w\", \"want\", \"wants\", \"was\", \"way\", \"we\", \"welcome\", \"well\", \"went\", \"were\", \"what\", \"whatever\", \"when\", \"whence\", \"whenever\", \"where\", \"whereafter\", \"whereas\", \"whereby\", \"wherein\", \"whereupon\", \"wherever\", \"whether\", \"which\", \"while\", \"whither\", \"who\", \"whoever\", \"whole\", \"whom\", \"whose\", \"why\", \"will\", \"willing\", \"wish\", \"with\", \"within\", \"without\", \"wonder\", \"would\", \"would\", \"x\", \"y\", \"yes\", \"yet\", \"you\", \"your\", \"yours\", \"yourself\", \"yourselves\", \"z\", \"zero\"]\n",
    "\n",
    "# Parse text into words, make lowercase and remove stop words\n",
    "txts = [[word for word in sentence.lower().split() if word not in stop_words]\n",
    "        for sentence in comments_clean]\n",
    "\n",
    "print(\"counting words...\")\n",
    "from collections import Counter\n",
    "frequency = Counter([word for txt in txts for word in txt])\n",
    "\n",
    "# Now grab tokens that appear more than once\n",
    "tokens = [[token for token in txt if frequency[token] > 2]\n",
    "          for txt in txts]"
   ]
  },
  {
   "cell_type": "code",
   "execution_count": 37,
   "metadata": {
    "scrolled": true
   },
   "outputs": [
    {
     "data": {
      "text/plain": [
       "[('dont', 50392),\n",
       " ('im', 49353),\n",
       " ('people', 39460),\n",
       " ('time', 30520),\n",
       " ('good', 29725),\n",
       " ('make', 23449),\n",
       " ('deleted', 22531),\n",
       " ('youre', 22056),\n",
       " ('ive', 18278),\n",
       " ('game', 17507),\n",
       " ('back', 17069),\n",
       " ('god', 16449),\n",
       " ('doesnt', 15374),\n",
       " ('didnt', 15327),\n",
       " ('work', 15171),\n",
       " ('pretty', 14942),\n",
       " ('thing', 14472),\n",
       " ('gt', 14297),\n",
       " ('lot', 14208),\n",
       " ('removed', 13664),\n",
       " ('things', 13469),\n",
       " ('2', 12479),\n",
       " ('great', 12187),\n",
       " ('feel', 12072),\n",
       " ('post', 11831),\n",
       " ('love', 11595),\n",
       " ('day', 11587),\n",
       " ('isnt', 11581),\n",
       " ('id', 11542),\n",
       " ('hes', 11089),\n",
       " ('shit', 11086),\n",
       " ('years', 11038),\n",
       " ('yeah', 10954),\n",
       " ('made', 10583),\n",
       " ('point', 10496),\n",
       " ('find', 10487),\n",
       " ('bad', 10388),\n",
       " ('1', 9887),\n",
       " ('year', 9792),\n",
       " ('play', 9764),\n",
       " ('ill', 9742),\n",
       " ('3', 9451),\n",
       " ('long', 9373),\n",
       " ('give', 9082),\n",
       " ('theyre', 8957),\n",
       " ('man', 8706),\n",
       " ('life', 8358),\n",
       " ('thought', 8324),\n",
       " ('fuck', 8167),\n",
       " ('put', 8103),\n",
       " ('makes', 8091),\n",
       " ('part', 7952),\n",
       " ('guy', 7920),\n",
       " ('money', 7917),\n",
       " ('lol', 7785),\n",
       " ('hard', 7645),\n",
       " ('big', 7598),\n",
       " ('questions', 7499),\n",
       " ('read', 7495),\n",
       " ('bit', 7473),\n",
       " ('end', 7219),\n",
       " ('fucking', 7057),\n",
       " ('bot', 6808),\n",
       " ('person', 6707),\n",
       " ('nice', 6672),\n",
       " ('start', 6646),\n",
       " ('kind', 6581),\n",
       " ('trump', 6497),\n",
       " ('stuff', 6496),\n",
       " ('show', 6482),\n",
       " ('high', 6427),\n",
       " ('reason', 6413),\n",
       " ('5', 6355),\n",
       " ('wouldnt', 6344),\n",
       " ('problem', 6307),\n",
       " ('automatically', 6286),\n",
       " ('team', 6261),\n",
       " ('real', 6244),\n",
       " ('making', 6184),\n",
       " ('games', 6174),\n",
       " ('4', 6170),\n",
       " ('wrong', 6157),\n",
       " ('world', 6125),\n",
       " ('times', 6109),\n",
       " ('idea', 6104),\n",
       " ('free', 6054),\n",
       " ('wont', 6052),\n",
       " ('question', 5929),\n",
       " ('place', 5916),\n",
       " ('action', 5911),\n",
       " ('wasnt', 5898),\n",
       " ('contact', 5842),\n",
       " ('stop', 5796),\n",
       " ('10', 5736),\n",
       " ('run', 5710),\n",
       " ('guess', 5710),\n",
       " ('arent', 5682),\n",
       " ('top', 5554),\n",
       " ('hope', 5554),\n",
       " ('job', 5511)]"
      ]
     },
     "execution_count": 37,
     "metadata": {},
     "output_type": "execute_result"
    }
   ],
   "source": [
    "frequency.most_common(100)"
   ]
  },
  {
   "cell_type": "code",
   "execution_count": null,
   "metadata": {
    "collapsed": true
   },
   "outputs": [],
   "source": []
  }
 ],
 "metadata": {
  "kernelspec": {
   "display_name": "Python 3",
   "language": "python",
   "name": "python3"
  },
  "language_info": {
   "codemirror_mode": {
    "name": "ipython",
    "version": 3
   },
   "file_extension": ".py",
   "mimetype": "text/x-python",
   "name": "python",
   "nbconvert_exporter": "python",
   "pygments_lexer": "ipython3",
   "version": "3.6.3"
  }
 },
 "nbformat": 4,
 "nbformat_minor": 2
}
